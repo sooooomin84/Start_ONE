{
 "cells": [
  {
   "cell_type": "code",
   "execution_count": 24,
   "id": "68a4380e",
   "metadata": {},
   "outputs": [],
   "source": [
    "import pandas as pd\n",
    "import numpy as np\n",
    "import json\n",
    "from tqdm import tqdm\n",
    "import time\n",
    "from multiprocessing import Pool\n",
    "import get_content"
   ]
  },
  {
   "cell_type": "code",
   "execution_count": 25,
   "id": "bb3f7476",
   "metadata": {},
   "outputs": [],
   "source": [
    "df=pd.read_csv('서울시 카페.csv')"
   ]
  },
  {
   "cell_type": "code",
   "execution_count": 26,
   "id": "e7025f05",
   "metadata": {},
   "outputs": [],
   "source": [
    "urls = []\n",
    "for i in range(len(df)):\n",
    "    row = df.loc[i]\n",
    "    y_axis = row['latitude']\n",
    "    x_axis = row['longitude']\n",
    "    url = f'https://www.nicebizmap.co.kr/util/readData.jsp?LF=nice.Analyse&LID=getMapControl&sql_type=flowpop&x_axis={x_axis}&y_axis={y_axis}&radius=250&readType=json'\n",
    "    urls.append(url)"
   ]
  },
  {
   "cell_type": "code",
   "execution_count": 27,
   "id": "0aff0e29",
   "metadata": {},
   "outputs": [
    {
     "data": {
      "text/plain": [
       "7359"
      ]
     },
     "execution_count": 27,
     "metadata": {},
     "output_type": "execute_result"
    }
   ],
   "source": [
    "len(urls)"
   ]
  },
  {
   "cell_type": "code",
   "execution_count": 5,
   "id": "c110096b",
   "metadata": {},
   "outputs": [
    {
     "name": "stdout",
     "output_type": "stream",
     "text": [
      "--- elapsed time 1897.2851548194885 seconds ---\n"
     ]
    }
   ],
   "source": [
    "if __name__ ==  '__main__':\n",
    "    start_time = time.time()\n",
    "    num_processors = 8\n",
    "    p=Pool(processes = num_processors)\n",
    "    output = p.map(get_content.get_content,urls)\n",
    "    print(\"--- elapsed time %s seconds ---\" % (time.time() - start_time))"
   ]
  },
  {
   "cell_type": "code",
   "execution_count": 6,
   "id": "94ff69c9",
   "metadata": {},
   "outputs": [
    {
     "data": {
      "text/plain": [
       "7359"
      ]
     },
     "execution_count": 6,
     "metadata": {},
     "output_type": "execute_result"
    }
   ],
   "source": [
    "len(output)"
   ]
  },
  {
   "cell_type": "code",
   "execution_count": 29,
   "id": "63516a07",
   "metadata": {},
   "outputs": [],
   "source": [
    "flow_pop = []"
   ]
  },
  {
   "cell_type": "code",
   "execution_count": 30,
   "id": "87981e64",
   "metadata": {
    "scrolled": true
   },
   "outputs": [
    {
     "name": "stderr",
     "output_type": "stream",
     "text": [
      "100%|█████████████████████████████████████████████████████████████████████████████| 7359/7359 [00:57<00:00, 127.45it/s]\n"
     ]
    }
   ],
   "source": [
    "for i in tqdm(output):\n",
    "    try:\n",
    "        result = []\n",
    "        for flow in i:\n",
    "            x=float(flow['x_axis'])-float(x_axis)\n",
    "            y=float(flow['y_axis'])-float(y_axis)\n",
    "            result.append([abs(x)+abs(y),flow['flow_pop']])\n",
    "\n",
    "        result.sort()\n",
    "        result=result[0][1]\n",
    "        flow_pop.append(result)  \n",
    "    except:\n",
    "        flow_pop.append(\"NaN\")\n",
    "        continue"
   ]
  },
  {
   "cell_type": "code",
   "execution_count": 31,
   "id": "96b4bca1",
   "metadata": {},
   "outputs": [
    {
     "data": {
      "text/plain": [
       "7359"
      ]
     },
     "execution_count": 31,
     "metadata": {},
     "output_type": "execute_result"
    }
   ],
   "source": [
    "len(flow_pop)"
   ]
  },
  {
   "cell_type": "code",
   "execution_count": 32,
   "id": "02ff0aad",
   "metadata": {},
   "outputs": [],
   "source": [
    "df_sub=pd.DataFrame({'flow_pop': flow_pop})\n",
    "df=pd.concat([df,df_sub],axis=1)"
   ]
  },
  {
   "cell_type": "code",
   "execution_count": 33,
   "id": "a2501601",
   "metadata": {},
   "outputs": [],
   "source": [
    "df = df.drop(['Unnamed: 0'],axis=1)"
   ]
  },
  {
   "cell_type": "code",
   "execution_count": 49,
   "id": "65721075",
   "metadata": {},
   "outputs": [],
   "source": [
    "df = df.loc[df['flow_pop'] != \"NaN\"]"
   ]
  },
  {
   "cell_type": "code",
   "execution_count": 50,
   "id": "b1622c12",
   "metadata": {},
   "outputs": [],
   "source": [
    "df.to_csv('서울시 카페 유동인구.csv', encoding='utf-8-sig' ,index=False)"
   ]
  },
  {
   "cell_type": "code",
   "execution_count": 37,
   "id": "2afe4d42",
   "metadata": {},
   "outputs": [
    {
     "name": "stdout",
     "output_type": "stream",
     "text": [
      "<class 'pandas.core.frame.DataFrame'>\n",
      "RangeIndex: 7359 entries, 0 to 7358\n",
      "Data columns (total 8 columns):\n",
      " #   Column              Non-Null Count  Dtype  \n",
      "---  ------              --------------  -----  \n",
      " 0   name                7359 non-null   object \n",
      " 1   latitude            7359 non-null   float64\n",
      " 2   longitude           7359 non-null   float64\n",
      " 3   address             7358 non-null   object \n",
      " 4   review              7329 non-null   object \n",
      " 5   savecount           7359 non-null   object \n",
      " 6   visitorreviewscore  5524 non-null   float64\n",
      " 7   flow_pop            7359 non-null   object \n",
      "dtypes: float64(3), object(5)\n",
      "memory usage: 460.1+ KB\n"
     ]
    }
   ],
   "source": [
    "df.info()"
   ]
  },
  {
   "cell_type": "code",
   "execution_count": null,
   "id": "5221cf34",
   "metadata": {},
   "outputs": [],
   "source": []
  }
 ],
 "metadata": {
  "kernelspec": {
   "display_name": "Python 3 (ipykernel)",
   "language": "python",
   "name": "python3"
  },
  "language_info": {
   "codemirror_mode": {
    "name": "ipython",
    "version": 3
   },
   "file_extension": ".py",
   "mimetype": "text/x-python",
   "name": "python",
   "nbconvert_exporter": "python",
   "pygments_lexer": "ipython3",
   "version": "3.9.7"
  }
 },
 "nbformat": 4,
 "nbformat_minor": 5
}
