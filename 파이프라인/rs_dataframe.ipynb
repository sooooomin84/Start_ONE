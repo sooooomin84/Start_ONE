{
 "cells": [
  {
   "cell_type": "code",
   "execution_count": 1,
   "id": "5eca1eff",
   "metadata": {},
   "outputs": [],
   "source": [
    "from haversine import haversine, Unit\n",
    "import pandas as pd\n",
    "import numpy as np\n",
    "import time"
   ]
  },
  {
   "cell_type": "code",
   "execution_count": 2,
   "id": "61570525",
   "metadata": {},
   "outputs": [],
   "source": [
    "df_standard = pd.read_csv('마포구 부동산 유동인구.csv')\n",
    "#df_standard"
   ]
  },
  {
   "cell_type": "code",
   "execution_count": 3,
   "id": "ba8df253",
   "metadata": {},
   "outputs": [],
   "source": [
    "df_bus = pd.read_csv('서울시_버스정류장.csv',encoding='cp949')\n",
    "df_parking = pd.read_csv('서울시_공영주차장.csv')\n",
    "df_cafe = pd.read_csv('서울시 카페.csv')\n",
    "df_bicycle = pd.read_csv('서울시_자전거대여소.csv',encoding='cp949')\n",
    "df_subway = pd.read_csv('지하철역_좌표.csv')\n",
    "df_school = pd.read_csv('서울시학교.csv')\n",
    "df_store = pd.read_csv('서울시 소모품점.csv')\n",
    "df_restaurant = pd.read_csv('서울시 음식점.csv')"
   ]
  },
  {
   "cell_type": "code",
   "execution_count": 4,
   "id": "0e313e9f",
   "metadata": {},
   "outputs": [],
   "source": [
    "def return_N(standard_lat, standard_long, compare_lat, compare_long):\n",
    "  result = []\n",
    "  for i in range(len(standard_lat)):\n",
    "    z = []\n",
    "    standard = (standard_lat[i], standard_long[i])\n",
    "    for j in range(len(compare_lat)):\n",
    "      compare = (compare_lat[j], compare_long[j])\n",
    "      x = haversine(standard, compare, unit='m') <= 500\n",
    "      z.append(x)\n",
    "    result.append(sum(z))\n",
    "  return result"
   ]
  },
  {
   "cell_type": "code",
   "execution_count": 5,
   "id": "69765ed0",
   "metadata": {},
   "outputs": [],
   "source": [
    "standard_lat = np.array(df_standard.latitude.values)\n",
    "standard_long = np.array(df_standard.longitude.values)"
   ]
  },
  {
   "cell_type": "code",
   "execution_count": 6,
   "id": "51054d03",
   "metadata": {},
   "outputs": [
    {
     "name": "stdout",
     "output_type": "stream",
     "text": [
      "Wall time: 2min 40s\n"
     ]
    }
   ],
   "source": [
    "%%time\n",
    "#df_bus\n",
    "\n",
    "compare_lat = np.array(df_bus.Y좌표.values)\n",
    "compare_long = np.array(df_bus.X좌표.values)\n",
    "\n",
    "df_standard['bus_N'] = return_N(standard_lat, standard_long, compare_lat, compare_long)"
   ]
  },
  {
   "cell_type": "code",
   "execution_count": 7,
   "id": "16e087c9",
   "metadata": {},
   "outputs": [],
   "source": [
    "df_parking = df_parking.drop(df_parking.loc[df_parking[\"longitude\"] >=180].index)\n",
    "df_parking = df_parking.drop(df_parking.loc[df_parking[\"latitude\"] >=90].index)"
   ]
  },
  {
   "cell_type": "code",
   "execution_count": 8,
   "id": "a60f17cd",
   "metadata": {},
   "outputs": [
    {
     "name": "stdout",
     "output_type": "stream",
     "text": [
      "Wall time: 4min 5s\n"
     ]
    }
   ],
   "source": [
    "%%time\n",
    "#df_parking\n",
    "\n",
    "compare_lat = np.array(df_parking.latitude.values)\n",
    "compare_long = np.array(df_parking.longitude.values)\n",
    "\n",
    "df_standard['parking_N'] = return_N(standard_lat, standard_long, compare_lat, compare_long)"
   ]
  },
  {
   "cell_type": "code",
   "execution_count": 9,
   "id": "13f61e87",
   "metadata": {},
   "outputs": [
    {
     "name": "stdout",
     "output_type": "stream",
     "text": [
      "Wall time: 1min 49s\n"
     ]
    }
   ],
   "source": [
    "%%time\n",
    "#df_cafe\n",
    "\n",
    "compare_lat = np.array(df_cafe.latitude.values)\n",
    "compare_long = np.array(df_cafe.longitude.values)\n",
    "\n",
    "df_standard['cafe_N'] = return_N(standard_lat, standard_long, compare_lat, compare_long)"
   ]
  },
  {
   "cell_type": "code",
   "execution_count": 10,
   "id": "9a6a1320",
   "metadata": {},
   "outputs": [
    {
     "name": "stdout",
     "output_type": "stream",
     "text": [
      "Wall time: 37.8 s\n"
     ]
    }
   ],
   "source": [
    "%%time\n",
    "#df_bicycle\n",
    "\n",
    "compare_lat = np.array(df_bicycle.y.values)\n",
    "compare_long = np.array(df_bicycle.x.values)\n",
    "\n",
    "df_standard['bicycle_N'] = return_N(standard_lat, standard_long, compare_lat, compare_long)"
   ]
  },
  {
   "cell_type": "code",
   "execution_count": 11,
   "id": "290c56ef",
   "metadata": {},
   "outputs": [
    {
     "name": "stdout",
     "output_type": "stream",
     "text": [
      "Wall time: 8.35 s\n"
     ]
    }
   ],
   "source": [
    "%%time\n",
    "#df_subway\n",
    "\n",
    "df_compare = df_subway.T\n",
    "df_compare.columns=['latitude','longitude']\n",
    "df_compare = df_compare.drop('Unnamed: 0', axis=0)\n",
    "\n",
    "compare_lat = np.array(df_compare.latitude.values)\n",
    "compare_long = np.array(df_compare.longitude.values)\n",
    "\n",
    "df_standard['subway_N'] = return_N(standard_lat, standard_long, compare_lat, compare_long)"
   ]
  },
  {
   "cell_type": "code",
   "execution_count": 12,
   "id": "ef2d611b",
   "metadata": {},
   "outputs": [],
   "source": [
    "def return_d(standard_lat, standard_long, compare_lat, compare_long):\n",
    "  result = []\n",
    "  for i in range(len(standard_lat)):\n",
    "    z = []\n",
    "    standard = (standard_lat[i], standard_long[i])\n",
    "    for j in range(len(compare_lat)):\n",
    "      compare = (compare_lat[j], compare_long[j])\n",
    "      x = haversine(standard, compare, unit='m')\n",
    "      z.append(x)\n",
    "    result.append(min(z))\n",
    "  return result"
   ]
  },
  {
   "cell_type": "code",
   "execution_count": 13,
   "id": "b08b0653",
   "metadata": {},
   "outputs": [
    {
     "name": "stdout",
     "output_type": "stream",
     "text": [
      "Wall time: 9.12 s\n"
     ]
    }
   ],
   "source": [
    "%%time\n",
    "#df_subway\n",
    "\n",
    "df_compare = df_subway.T\n",
    "df_compare.columns=['latitude','longitude']\n",
    "df_compare = df_compare.drop('Unnamed: 0', axis=0)\n",
    "\n",
    "compare_lat = np.array(df_compare.latitude.values)\n",
    "compare_long = np.array(df_compare.longitude.values)\n",
    "\n",
    "df_standard['subway_d'] = return_d(standard_lat, standard_long, compare_lat, compare_long)"
   ]
  },
  {
   "cell_type": "code",
   "execution_count": 14,
   "id": "c7938b1a",
   "metadata": {},
   "outputs": [
    {
     "name": "stdout",
     "output_type": "stream",
     "text": [
      "Wall time: 38 s\n"
     ]
    }
   ],
   "source": [
    "%%time\n",
    "#df_school\n",
    "\n",
    "compare_lat = np.array(df_school.위도.values)\n",
    "compare_long = np.array(df_school.경도.values)\n",
    "\n",
    "df_standard['school_N'] = return_N(standard_lat, standard_long, compare_lat, compare_long)"
   ]
  },
  {
   "cell_type": "code",
   "execution_count": 15,
   "id": "f72db67d",
   "metadata": {},
   "outputs": [
    {
     "name": "stdout",
     "output_type": "stream",
     "text": [
      "Wall time: 3min 15s\n"
     ]
    }
   ],
   "source": [
    "%%time\n",
    "#df_store\n",
    "\n",
    "compare_lat = np.array(df_store.latitude.values)\n",
    "compare_long = np.array(df_store.longitude.values)\n",
    "\n",
    "df_standard['store_N'] = return_N(standard_lat, standard_long, compare_lat, compare_long)"
   ]
  },
  {
   "cell_type": "code",
   "execution_count": 16,
   "id": "a96034b1",
   "metadata": {},
   "outputs": [
    {
     "name": "stdout",
     "output_type": "stream",
     "text": [
      "Wall time: 1min 41s\n"
     ]
    }
   ],
   "source": [
    "%%time\n",
    "#df_restauran\n",
    "\n",
    "compare_lat = np.array(df_restaurant.latitude.values)\n",
    "compare_long = np.array(df_restaurant.longitude.values)\n",
    "\n",
    "df_standard['rest_N'] = return_N(standard_lat, standard_long, compare_lat, compare_long)"
   ]
  },
  {
   "cell_type": "code",
   "execution_count": 17,
   "id": "628c1986",
   "metadata": {
    "scrolled": true
   },
   "outputs": [
    {
     "data": {
      "text/html": [
       "<div>\n",
       "<style scoped>\n",
       "    .dataframe tbody tr th:only-of-type {\n",
       "        vertical-align: middle;\n",
       "    }\n",
       "\n",
       "    .dataframe tbody tr th {\n",
       "        vertical-align: top;\n",
       "    }\n",
       "\n",
       "    .dataframe thead th {\n",
       "        text-align: right;\n",
       "    }\n",
       "</style>\n",
       "<table border=\"1\" class=\"dataframe\">\n",
       "  <thead>\n",
       "    <tr style=\"text-align: right;\">\n",
       "      <th></th>\n",
       "      <th>tradeTypeName</th>\n",
       "      <th>rentPrc</th>\n",
       "      <th>dealOrWarrantPrc</th>\n",
       "      <th>area2</th>\n",
       "      <th>floorInfo</th>\n",
       "      <th>direction</th>\n",
       "      <th>latitude</th>\n",
       "      <th>longitude</th>\n",
       "      <th>flow_pop</th>\n",
       "      <th>bus_N</th>\n",
       "      <th>parking_N</th>\n",
       "      <th>cafe_N</th>\n",
       "      <th>bicycle_N</th>\n",
       "      <th>subway_N</th>\n",
       "      <th>subway_d</th>\n",
       "      <th>school_N</th>\n",
       "      <th>store_N</th>\n",
       "      <th>rest_N</th>\n",
       "    </tr>\n",
       "  </thead>\n",
       "  <tbody>\n",
       "    <tr>\n",
       "      <th>0</th>\n",
       "      <td>월세</td>\n",
       "      <td>800</td>\n",
       "      <td>1억</td>\n",
       "      <td>151</td>\n",
       "      <td>1/10</td>\n",
       "      <td>남향</td>\n",
       "      <td>37.577010</td>\n",
       "      <td>126.896961</td>\n",
       "      <td>316</td>\n",
       "      <td>23</td>\n",
       "      <td>2</td>\n",
       "      <td>4</td>\n",
       "      <td>10</td>\n",
       "      <td>2</td>\n",
       "      <td>356.834399</td>\n",
       "      <td>2</td>\n",
       "      <td>11</td>\n",
       "      <td>5</td>\n",
       "    </tr>\n",
       "    <tr>\n",
       "      <th>1</th>\n",
       "      <td>월세</td>\n",
       "      <td>340</td>\n",
       "      <td>4,000</td>\n",
       "      <td>78</td>\n",
       "      <td>1/3</td>\n",
       "      <td>서향</td>\n",
       "      <td>37.577000</td>\n",
       "      <td>126.896647</td>\n",
       "      <td>316</td>\n",
       "      <td>27</td>\n",
       "      <td>2</td>\n",
       "      <td>4</td>\n",
       "      <td>9</td>\n",
       "      <td>2</td>\n",
       "      <td>384.224754</td>\n",
       "      <td>2</td>\n",
       "      <td>10</td>\n",
       "      <td>4</td>\n",
       "    </tr>\n",
       "    <tr>\n",
       "      <th>2</th>\n",
       "      <td>매매</td>\n",
       "      <td>0</td>\n",
       "      <td>12억 5,000</td>\n",
       "      <td>42</td>\n",
       "      <td>1/22</td>\n",
       "      <td>북향</td>\n",
       "      <td>37.544876</td>\n",
       "      <td>126.947963</td>\n",
       "      <td>4339</td>\n",
       "      <td>36</td>\n",
       "      <td>2</td>\n",
       "      <td>12</td>\n",
       "      <td>6</td>\n",
       "      <td>1</td>\n",
       "      <td>333.870357</td>\n",
       "      <td>10</td>\n",
       "      <td>25</td>\n",
       "      <td>15</td>\n",
       "    </tr>\n",
       "    <tr>\n",
       "      <th>3</th>\n",
       "      <td>월세</td>\n",
       "      <td>290</td>\n",
       "      <td>3,000</td>\n",
       "      <td>154</td>\n",
       "      <td>2/4</td>\n",
       "      <td>북향</td>\n",
       "      <td>37.577464</td>\n",
       "      <td>126.893779</td>\n",
       "      <td>316</td>\n",
       "      <td>22</td>\n",
       "      <td>8</td>\n",
       "      <td>2</td>\n",
       "      <td>9</td>\n",
       "      <td>1</td>\n",
       "      <td>408.841842</td>\n",
       "      <td>2</td>\n",
       "      <td>8</td>\n",
       "      <td>2</td>\n",
       "    </tr>\n",
       "    <tr>\n",
       "      <th>4</th>\n",
       "      <td>월세</td>\n",
       "      <td>300</td>\n",
       "      <td>7,000</td>\n",
       "      <td>71</td>\n",
       "      <td>B1/37</td>\n",
       "      <td>남향</td>\n",
       "      <td>37.540049</td>\n",
       "      <td>126.945477</td>\n",
       "      <td>1900</td>\n",
       "      <td>28</td>\n",
       "      <td>44</td>\n",
       "      <td>1</td>\n",
       "      <td>4</td>\n",
       "      <td>1</td>\n",
       "      <td>66.325748</td>\n",
       "      <td>4</td>\n",
       "      <td>19</td>\n",
       "      <td>12</td>\n",
       "    </tr>\n",
       "    <tr>\n",
       "      <th>...</th>\n",
       "      <td>...</td>\n",
       "      <td>...</td>\n",
       "      <td>...</td>\n",
       "      <td>...</td>\n",
       "      <td>...</td>\n",
       "      <td>...</td>\n",
       "      <td>...</td>\n",
       "      <td>...</td>\n",
       "      <td>...</td>\n",
       "      <td>...</td>\n",
       "      <td>...</td>\n",
       "      <td>...</td>\n",
       "      <td>...</td>\n",
       "      <td>...</td>\n",
       "      <td>...</td>\n",
       "      <td>...</td>\n",
       "      <td>...</td>\n",
       "      <td>...</td>\n",
       "    </tr>\n",
       "    <tr>\n",
       "      <th>1792</th>\n",
       "      <td>월세</td>\n",
       "      <td>180</td>\n",
       "      <td>2,000</td>\n",
       "      <td>80</td>\n",
       "      <td>1/5</td>\n",
       "      <td>서향</td>\n",
       "      <td>37.555477</td>\n",
       "      <td>126.913090</td>\n",
       "      <td>867</td>\n",
       "      <td>30</td>\n",
       "      <td>84</td>\n",
       "      <td>27</td>\n",
       "      <td>3</td>\n",
       "      <td>1</td>\n",
       "      <td>276.451336</td>\n",
       "      <td>8</td>\n",
       "      <td>53</td>\n",
       "      <td>30</td>\n",
       "    </tr>\n",
       "    <tr>\n",
       "      <th>1793</th>\n",
       "      <td>매매</td>\n",
       "      <td>0</td>\n",
       "      <td>64억</td>\n",
       "      <td>505</td>\n",
       "      <td>1/14</td>\n",
       "      <td>남향</td>\n",
       "      <td>37.553712</td>\n",
       "      <td>126.954696</td>\n",
       "      <td>1978</td>\n",
       "      <td>19</td>\n",
       "      <td>1</td>\n",
       "      <td>5</td>\n",
       "      <td>6</td>\n",
       "      <td>2</td>\n",
       "      <td>187.257005</td>\n",
       "      <td>8</td>\n",
       "      <td>9</td>\n",
       "      <td>6</td>\n",
       "    </tr>\n",
       "    <tr>\n",
       "      <th>1794</th>\n",
       "      <td>월세</td>\n",
       "      <td>140</td>\n",
       "      <td>2,000</td>\n",
       "      <td>45</td>\n",
       "      <td>1/3</td>\n",
       "      <td>북향</td>\n",
       "      <td>37.541508</td>\n",
       "      <td>126.955320</td>\n",
       "      <td>7980</td>\n",
       "      <td>41</td>\n",
       "      <td>2</td>\n",
       "      <td>4</td>\n",
       "      <td>5</td>\n",
       "      <td>1</td>\n",
       "      <td>431.196142</td>\n",
       "      <td>2</td>\n",
       "      <td>9</td>\n",
       "      <td>2</td>\n",
       "    </tr>\n",
       "    <tr>\n",
       "      <th>1795</th>\n",
       "      <td>월세</td>\n",
       "      <td>200</td>\n",
       "      <td>2,000</td>\n",
       "      <td>39</td>\n",
       "      <td>B1/2</td>\n",
       "      <td>남동향</td>\n",
       "      <td>37.554436</td>\n",
       "      <td>126.927052</td>\n",
       "      <td>1471</td>\n",
       "      <td>39</td>\n",
       "      <td>108</td>\n",
       "      <td>28</td>\n",
       "      <td>4</td>\n",
       "      <td>1</td>\n",
       "      <td>340.016502</td>\n",
       "      <td>2</td>\n",
       "      <td>49</td>\n",
       "      <td>25</td>\n",
       "    </tr>\n",
       "    <tr>\n",
       "      <th>1796</th>\n",
       "      <td>월세</td>\n",
       "      <td>100</td>\n",
       "      <td>1,000</td>\n",
       "      <td>39</td>\n",
       "      <td>1/1</td>\n",
       "      <td>동향</td>\n",
       "      <td>37.555842</td>\n",
       "      <td>126.955086</td>\n",
       "      <td>969</td>\n",
       "      <td>21</td>\n",
       "      <td>0</td>\n",
       "      <td>7</td>\n",
       "      <td>6</td>\n",
       "      <td>2</td>\n",
       "      <td>191.258619</td>\n",
       "      <td>8</td>\n",
       "      <td>7</td>\n",
       "      <td>2</td>\n",
       "    </tr>\n",
       "  </tbody>\n",
       "</table>\n",
       "<p>1797 rows × 18 columns</p>\n",
       "</div>"
      ],
      "text/plain": [
       "     tradeTypeName rentPrc dealOrWarrantPrc  area2 floorInfo direction  \\\n",
       "0               월세     800               1억    151      1/10        남향   \n",
       "1               월세     340            4,000     78       1/3        서향   \n",
       "2               매매       0        12억 5,000     42      1/22        북향   \n",
       "3               월세     290            3,000    154       2/4        북향   \n",
       "4               월세     300            7,000     71     B1/37        남향   \n",
       "...            ...     ...              ...    ...       ...       ...   \n",
       "1792            월세     180            2,000     80       1/5        서향   \n",
       "1793            매매       0              64억    505      1/14        남향   \n",
       "1794            월세     140            2,000     45       1/3        북향   \n",
       "1795            월세     200            2,000     39      B1/2       남동향   \n",
       "1796            월세     100            1,000     39       1/1        동향   \n",
       "\n",
       "       latitude   longitude  flow_pop  bus_N  parking_N  cafe_N  bicycle_N  \\\n",
       "0     37.577010  126.896961       316     23          2       4         10   \n",
       "1     37.577000  126.896647       316     27          2       4          9   \n",
       "2     37.544876  126.947963      4339     36          2      12          6   \n",
       "3     37.577464  126.893779       316     22          8       2          9   \n",
       "4     37.540049  126.945477      1900     28         44       1          4   \n",
       "...         ...         ...       ...    ...        ...     ...        ...   \n",
       "1792  37.555477  126.913090       867     30         84      27          3   \n",
       "1793  37.553712  126.954696      1978     19          1       5          6   \n",
       "1794  37.541508  126.955320      7980     41          2       4          5   \n",
       "1795  37.554436  126.927052      1471     39        108      28          4   \n",
       "1796  37.555842  126.955086       969     21          0       7          6   \n",
       "\n",
       "      subway_N    subway_d  school_N  store_N  rest_N  \n",
       "0            2  356.834399         2       11       5  \n",
       "1            2  384.224754         2       10       4  \n",
       "2            1  333.870357        10       25      15  \n",
       "3            1  408.841842         2        8       2  \n",
       "4            1   66.325748         4       19      12  \n",
       "...        ...         ...       ...      ...     ...  \n",
       "1792         1  276.451336         8       53      30  \n",
       "1793         2  187.257005         8        9       6  \n",
       "1794         1  431.196142         2        9       2  \n",
       "1795         1  340.016502         2       49      25  \n",
       "1796         2  191.258619         8        7       2  \n",
       "\n",
       "[1797 rows x 18 columns]"
      ]
     },
     "execution_count": 17,
     "metadata": {},
     "output_type": "execute_result"
    }
   ],
   "source": [
    "df_standard"
   ]
  },
  {
   "cell_type": "code",
   "execution_count": 18,
   "id": "8de4a919",
   "metadata": {},
   "outputs": [],
   "source": [
    "df_standard.to_csv('rs_dataframe.csv')"
   ]
  },
  {
   "cell_type": "code",
   "execution_count": null,
   "id": "a1e7d59b",
   "metadata": {},
   "outputs": [],
   "source": []
  }
 ],
 "metadata": {
  "kernelspec": {
   "display_name": "Python 3 (ipykernel)",
   "language": "python",
   "name": "python3"
  },
  "language_info": {
   "codemirror_mode": {
    "name": "ipython",
    "version": 3
   },
   "file_extension": ".py",
   "mimetype": "text/x-python",
   "name": "python",
   "nbconvert_exporter": "python",
   "pygments_lexer": "ipython3",
   "version": "3.9.7"
  }
 },
 "nbformat": 4,
 "nbformat_minor": 5
}
